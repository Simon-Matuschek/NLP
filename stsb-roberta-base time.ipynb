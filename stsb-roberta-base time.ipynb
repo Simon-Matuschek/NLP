{
 "cells": [
  {
   "cell_type": "code",
   "execution_count": null,
   "id": "480829e5",
   "metadata": {},
   "outputs": [],
   "source": [
    "import sqlite3\n",
    "import pandas as pd\n",
    "import matplotlib.pyplot as plt\n",
    "from bertopic import BERTopic\n",
    "from bertopic.representation import KeyBERTInspired\n",
    "from bertopic.vectorizers import ClassTfidfTransformer\n",
    "from sentence_transformers import SentenceTransformer\n",
    "from sklearn.feature_extraction.text import CountVectorizer, TfidfVectorizer\n",
    "from umap import UMAP\n",
    "from hdbscan import HDBSCAN\n",
    "\n",
    "conn = sqlite3.connect('../EconomicsFinal.db')\n",
    "\n",
    "df = pd.read_sql_query(\"SELECT title, year FROM EconomicsFinal\", conn)\n",
    "\n",
    "embedding_model = SentenceTransformer('sentence-transformers/stsb-roberta-base')\n",
    "\n",
    "umap_model = UMAP(n_neighbors=15, n_components=5, min_dist=0.0, metric='cosine')\n",
    "\n",
    "hdbscan_model = HDBSCAN(min_cluster_size=15, metric='euclidean', cluster_selection_method='eom', prediction_data=True)\n",
    "\n",
    "\n",
    "my_stop_words = [\"on\", \"of\",\"the\",\"in\",\"the\",\"for\",'economics', 'economy', 'approach', 'new', 'study', 'models','based', 'model', 'paper','economic', 'time', 'results', 'show','using', 'used', 'also','data', 'network']\n",
    "\n",
    "tfidf_model = TfidfVectorizer(stop_words=[\"english\"] + my_stop_words, ngram_range=(1, 3))\n",
    "\n",
    "ctfidf_model = ClassTfidfTransformer()\n",
    "\n",
    "representation_model = KeyBERTInspired()\n",
    "\n",
    "topic_model = BERTopic(\n",
    "  embedding_model=embedding_model,          # Step 1 - Extract embeddings\n",
    "  umap_model=umap_model,                    # Step 2 - Reduce dimensionality\n",
    "  hdbscan_model=hdbscan_model,              # Step 3 - Cluster reduced embeddings\n",
    "  vectorizer_model=tfidf_model,             # Step 4 - Tokenize topics\n",
    "  ctfidf_model=ctfidf_model,                # Step 5 - Extract topic words\n",
    "  representation_model=representation_model # Step 6 - (Optional) Fine-tune topic represenations\n",
    ")\n",
    "\n",
    "topic_model.fit(df['title'])\n"
   ]
  },
  {
   "cell_type": "code",
   "execution_count": null,
   "id": "2e46f661",
   "metadata": {},
   "outputs": [],
   "source": [
    "topic_model.visualize_barchart(top_n_topics=10, width=600,height=350)"
   ]
  },
  {
   "cell_type": "code",
   "execution_count": null,
   "id": "70d77316",
   "metadata": {},
   "outputs": [],
   "source": [
    "import sqlite3\n",
    "import pandas as pd\n",
    "import re\n",
    "from bertopic import BERTopic\n",
    "\n",
    "topics = [2,3,7,8]\n",
    "\n",
    "# Generate topics over time\n",
    "topics_over_time = topic_model.topics_over_time(df['title'], df['year'], nr_bins=12)\n",
    "\n",
    "# Visualize the frequency of topics over time using Plotly\n",
    "topic_model.visualize_topics_over_time(topics_over_time,topics=topics)"
   ]
  },
  {
   "cell_type": "code",
   "execution_count": null,
   "id": "d3ebd64c",
   "metadata": {},
   "outputs": [],
   "source": []
  },
  {
   "cell_type": "code",
   "execution_count": null,
   "id": "e87a6b1b",
   "metadata": {},
   "outputs": [],
   "source": [
    "topic_model.save(\"TitleRoBERTa\")"
   ]
  }
 ],
 "metadata": {
  "kernelspec": {
   "display_name": "Python 3 (ipykernel)",
   "language": "python",
   "name": "python3"
  },
  "language_info": {
   "codemirror_mode": {
    "name": "ipython",
    "version": 3
   },
   "file_extension": ".py",
   "mimetype": "text/x-python",
   "name": "python",
   "nbconvert_exporter": "python",
   "pygments_lexer": "ipython3",
   "version": "3.9.13"
  }
 },
 "nbformat": 4,
 "nbformat_minor": 5
}
