{
 "cells": [
  {
   "cell_type": "code",
   "execution_count": null,
   "id": "1bbc0598",
   "metadata": {},
   "outputs": [],
   "source": [
    "import sqlite3\n",
    "import pandas as pd\n",
    "import matplotlib.pyplot as plt\n",
    "from bertopic import BERTopic\n",
    "from bertopic.representation import KeyBERTInspired\n",
    "from bertopic.vectorizers import ClassTfidfTransformer\n",
    "from transformers import AutoTokenizer, AutoModel\n",
    "from sklearn.feature_extraction.text import CountVectorizer, TfidfVectorizer\n",
    "from umap import UMAP\n",
    "from hdbscan import HDBSCAN\n",
    "\n",
    "conn = sqlite3.connect('../EconomicsFinal.db')\n",
    "\n",
    "cursor = conn.cursor()\n",
    "cursor.execute(\"SELECT title FROM EconomicsFinal\")\n",
    "rows = cursor.fetchall()\n",
    "\n",
    "df = pd.DataFrame(rows, columns=['title'])\n",
    "\n",
    "model_name = \"bert-base-uncased\"\n",
    "tokenizer = AutoTokenizer.from_pretrained(model_name)\n",
    "model = AutoModel.from_pretrained(model_name)\n",
    "\n",
    "umap_model = UMAP(n_neighbors=15, n_components=5, min_dist=0.0, metric='cosine')\n",
    "\n",
    "hdbscan_model = HDBSCAN(min_cluster_size=15, metric='euclidean', cluster_selection_method='eom', prediction_data=True)\n",
    "\n",
    "vectorizer_model = CountVectorizer(stop_words=\"english\",ngram_range=(2,3))\n",
    "\n",
    "ctfidf_model = ClassTfidfTransformer()\n",
    "\n",
    "representation_model = KeyBERTInspired()\n",
    "\n",
    "topic_model = BERTopic(\n",
    "  embedding_model=model,                    \n",
    "  umap_model=umap_model,                    \n",
    "  hdbscan_model=hdbscan_model,              \n",
    "  vectorizer_model=vectorizer_model,        \n",
    "  ctfidf_model=ctfidf_model,                \n",
    "  representation_model=representation_model \n",
    ")\n",
    "\n",
    "topic_model.fit(df['title'])\n"
   ]
  },
  {
   "cell_type": "code",
   "execution_count": null,
   "id": "b901557e",
   "metadata": {},
   "outputs": [],
   "source": [
    "topic_model.visualize_barchart(height=400,width=500)"
   ]
  },
  {
   "cell_type": "code",
   "execution_count": null,
   "id": "e20411d5",
   "metadata": {},
   "outputs": [],
   "source": [
    "topic_model.visualize_topics( width=1000, height=800)"
   ]
  },
  {
   "cell_type": "code",
   "execution_count": null,
   "id": "ebe7bf92",
   "metadata": {},
   "outputs": [],
   "source": []
  }
 ],
 "metadata": {
  "kernelspec": {
   "display_name": "Python 3 (ipykernel)",
   "language": "python",
   "name": "python3"
  },
  "language_info": {
   "codemirror_mode": {
    "name": "ipython",
    "version": 3
   },
   "file_extension": ".py",
   "mimetype": "text/x-python",
   "name": "python",
   "nbconvert_exporter": "python",
   "pygments_lexer": "ipython3",
   "version": "3.9.13"
  }
 },
 "nbformat": 4,
 "nbformat_minor": 5
}
